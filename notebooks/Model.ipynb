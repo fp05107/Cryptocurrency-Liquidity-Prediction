{
 "cells": [
  {
   "cell_type": "code",
   "execution_count": 9,
   "id": "fe84a815",
   "metadata": {},
   "outputs": [],
   "source": [
    "# Import libraries\n",
    "import pandas as pd\n",
    "import numpy as np\n",
    "import matplotlib.pyplot as plt\n",
    "import seaborn as sns\n",
    "from sklearn.model_selection import TimeSeriesSplit, train_test_split\n",
    "from sklearn.ensemble import RandomForestRegressor\n",
    "from sklearn.linear_model import LinearRegression, Ridge\n",
    "from sklearn.metrics import mean_squared_error, mean_absolute_error, r2_score\n",
    "from xgboost import XGBRegressor\n",
    "from lightgbm import LGBMRegressor\n",
    "from sklearn.preprocessing import StandardScaler\n",
    "import joblib\n",
    "import warnings\n",
    "warnings.filterwarnings('ignore')\n",
    "\n",
    "# Set style for plots\n",
    "plt.style.use('seaborn-v0_8')\n",
    "%matplotlib inline"
   ]
  },
  {
   "cell_type": "code",
   "execution_count": 10,
   "id": "e8ab21ab",
   "metadata": {},
   "outputs": [
    {
     "name": "stdout",
     "output_type": "stream",
     "text": [
      "Dataset shape: (1000, 11)\n",
      "Date range: 2022-03-16 00:00:00 to 2022-03-17 00:00:00\n"
     ]
    },
    {
     "data": {
      "text/html": [
       "<div>\n",
       "<style scoped>\n",
       "    .dataframe tbody tr th:only-of-type {\n",
       "        vertical-align: middle;\n",
       "    }\n",
       "\n",
       "    .dataframe tbody tr th {\n",
       "        vertical-align: top;\n",
       "    }\n",
       "\n",
       "    .dataframe thead th {\n",
       "        text-align: right;\n",
       "    }\n",
       "</style>\n",
       "<table border=\"1\" class=\"dataframe\">\n",
       "  <thead>\n",
       "    <tr style=\"text-align: right;\">\n",
       "      <th></th>\n",
       "      <th>Unnamed: 0</th>\n",
       "      <th>coin</th>\n",
       "      <th>symbol</th>\n",
       "      <th>price</th>\n",
       "      <th>1h</th>\n",
       "      <th>24h</th>\n",
       "      <th>7d</th>\n",
       "      <th>24h_volume</th>\n",
       "      <th>mkt_cap</th>\n",
       "      <th>date</th>\n",
       "      <th>liq_ratio</th>\n",
       "    </tr>\n",
       "  </thead>\n",
       "  <tbody>\n",
       "    <tr>\n",
       "      <th>0</th>\n",
       "      <td>0</td>\n",
       "      <td>67</td>\n",
       "      <td>68</td>\n",
       "      <td>40859.460000</td>\n",
       "      <td>0.022</td>\n",
       "      <td>0.030</td>\n",
       "      <td>0.055</td>\n",
       "      <td>3.539076e+10</td>\n",
       "      <td>7.709915e+11</td>\n",
       "      <td>2022-03-16</td>\n",
       "      <td>0.045903</td>\n",
       "    </tr>\n",
       "    <tr>\n",
       "      <th>1</th>\n",
       "      <td>1</td>\n",
       "      <td>148</td>\n",
       "      <td>150</td>\n",
       "      <td>2744.410000</td>\n",
       "      <td>0.024</td>\n",
       "      <td>0.034</td>\n",
       "      <td>0.065</td>\n",
       "      <td>1.974870e+10</td>\n",
       "      <td>3.271044e+11</td>\n",
       "      <td>2022-03-16</td>\n",
       "      <td>0.060374</td>\n",
       "    </tr>\n",
       "    <tr>\n",
       "      <th>2</th>\n",
       "      <td>2</td>\n",
       "      <td>417</td>\n",
       "      <td>445</td>\n",
       "      <td>1.000000</td>\n",
       "      <td>-0.001</td>\n",
       "      <td>-0.001</td>\n",
       "      <td>0.000</td>\n",
       "      <td>5.793497e+10</td>\n",
       "      <td>7.996516e+10</td>\n",
       "      <td>2022-03-16</td>\n",
       "      <td>0.724503</td>\n",
       "    </tr>\n",
       "    <tr>\n",
       "      <th>3</th>\n",
       "      <td>3</td>\n",
       "      <td>45</td>\n",
       "      <td>62</td>\n",
       "      <td>383.430000</td>\n",
       "      <td>0.018</td>\n",
       "      <td>0.028</td>\n",
       "      <td>0.004</td>\n",
       "      <td>1.395854e+09</td>\n",
       "      <td>6.404382e+10</td>\n",
       "      <td>2022-03-16</td>\n",
       "      <td>0.021795</td>\n",
       "    </tr>\n",
       "    <tr>\n",
       "      <th>4</th>\n",
       "      <td>4</td>\n",
       "      <td>439</td>\n",
       "      <td>442</td>\n",
       "      <td>0.999874</td>\n",
       "      <td>-0.001</td>\n",
       "      <td>0.000</td>\n",
       "      <td>-0.000</td>\n",
       "      <td>3.872274e+09</td>\n",
       "      <td>5.222214e+10</td>\n",
       "      <td>2022-03-16</td>\n",
       "      <td>0.074150</td>\n",
       "    </tr>\n",
       "  </tbody>\n",
       "</table>\n",
       "</div>"
      ],
      "text/plain": [
       "   Unnamed: 0  coin  symbol         price     1h    24h     7d    24h_volume  \\\n",
       "0           0    67      68  40859.460000  0.022  0.030  0.055  3.539076e+10   \n",
       "1           1   148     150   2744.410000  0.024  0.034  0.065  1.974870e+10   \n",
       "2           2   417     445      1.000000 -0.001 -0.001  0.000  5.793497e+10   \n",
       "3           3    45      62    383.430000  0.018  0.028  0.004  1.395854e+09   \n",
       "4           4   439     442      0.999874 -0.001  0.000 -0.000  3.872274e+09   \n",
       "\n",
       "        mkt_cap       date  liq_ratio  \n",
       "0  7.709915e+11 2022-03-16   0.045903  \n",
       "1  3.271044e+11 2022-03-16   0.060374  \n",
       "2  7.996516e+10 2022-03-16   0.724503  \n",
       "3  6.404382e+10 2022-03-16   0.021795  \n",
       "4  5.222214e+10 2022-03-16   0.074150  "
      ]
     },
     "execution_count": 10,
     "metadata": {},
     "output_type": "execute_result"
    }
   ],
   "source": [
    "# Load your preprocessed dataset\n",
    "df = pd.read_csv('processed_data.csv')\n",
    "df['date'] = pd.to_datetime(df['date'])\n",
    "\n",
    "# Display basic info\n",
    "print(f\"Dataset shape: {df.shape}\")\n",
    "print(f\"Date range: {df['date'].min()} to {df['date'].max()}\")\n",
    "df.head()"
   ]
  },
  {
   "cell_type": "code",
   "execution_count": 11,
   "id": "9b1bd7ec",
   "metadata": {},
   "outputs": [
    {
     "name": "stdout",
     "output_type": "stream",
     "text": [
      "Number of features: 5\n",
      "Feature names: ['Unnamed: 0', 'price', '1h', '24h', '7d']\n"
     ]
    }
   ],
   "source": [
    "# Define target variable\n",
    "target_column = 'liq_ratio'\n",
    "\n",
    "# Exclude non-feature columns\n",
    "exclude_columns = ['coin', 'symbol', 'date', target_column, '24h_volume', 'mkt_cap']\n",
    "\n",
    "# Get feature columns (all numeric columns except excluded ones)\n",
    "feature_columns = [col for col in df.select_dtypes(include=[np.number]).columns \n",
    "                  if col not in exclude_columns]\n",
    "\n",
    "X = df[feature_columns]\n",
    "y = df[target_column]\n",
    "\n",
    "print(f\"Number of features: {len(feature_columns)}\")\n",
    "print(\"Feature names:\", feature_columns)"
   ]
  },
  {
   "cell_type": "code",
   "execution_count": 12,
   "id": "3bc58180",
   "metadata": {},
   "outputs": [
    {
     "name": "stdout",
     "output_type": "stream",
     "text": [
      "Training set: 0 samples (until 2021-12-17)\n",
      "Test set: 1000 samples (after 2021-12-17)\n"
     ]
    }
   ],
   "source": [
    "# Sort by date first to ensure chronological order\n",
    "df_sorted = df.sort_values('date')\n",
    "\n",
    "# Find the split point (last 3 months of data for testing)\n",
    "split_date = df_sorted['date'].max() - pd.DateOffset(months=3)\n",
    "\n",
    "# Create masks for train/test split\n",
    "train_mask = df_sorted['date'] <= split_date\n",
    "test_mask = df_sorted['date'] > split_date\n",
    "\n",
    "# Apply the split\n",
    "X_train, X_test = X.loc[train_mask], X.loc[test_mask]\n",
    "y_train, y_test = y.loc[train_mask], y.loc[test_mask]\n",
    "\n",
    "print(f\"Training set: {X_train.shape[0]} samples (until {split_date.date()})\")\n",
    "print(f\"Test set: {X_test.shape[0]} samples (after {split_date.date()})\")"
   ]
  },
  {
   "cell_type": "code",
   "execution_count": 14,
   "id": "1ce75dcf",
   "metadata": {},
   "outputs": [],
   "source": [
    "# # Initialize scaler\n",
    "# scaler = StandardScaler()\n",
    "\n",
    "# # Fit on training data, transform both train and test\n",
    "# X_train_scaled = scaler.fit_transform(X_train)\n",
    "# X_test_scaled = scaler.transform(X_test)\n",
    "\n",
    "# # Convert back to DataFrame for better visualization\n",
    "# X_train_scaled = pd.DataFrame(X_train_scaled, columns=feature_columns, index=X_train.index)\n",
    "# X_test_scaled = pd.DataFrame(X_test_scaled, columns=feature_columns, index=X_test.index)"
   ]
  },
  {
   "cell_type": "code",
   "execution_count": 6,
   "id": "0ae4cef1",
   "metadata": {},
   "outputs": [],
   "source": [
    "# Dictionary to store models\n",
    "models = {\n",
    "    'Linear Regression': LinearRegression(),\n",
    "    'Random Forest': RandomForestRegressor(n_estimators=100, random_state=42),\n",
    "    'XGBoost': XGBRegressor(n_estimators=100, random_state=42, verbosity=0),\n",
    "    'LightGBM': LGBMRegressor(n_estimators=100, random_state=42, verbose=-1)\n",
    "}"
   ]
  },
  {
   "cell_type": "code",
   "execution_count": null,
   "id": "06c099c8",
   "metadata": {},
   "outputs": [],
   "source": []
  }
 ],
 "metadata": {
  "kernelspec": {
   "display_name": ".venv (3.13.3)",
   "language": "python",
   "name": "python3"
  },
  "language_info": {
   "codemirror_mode": {
    "name": "ipython",
    "version": 3
   },
   "file_extension": ".py",
   "mimetype": "text/x-python",
   "name": "python",
   "nbconvert_exporter": "python",
   "pygments_lexer": "ipython3",
   "version": "3.13.3"
  }
 },
 "nbformat": 4,
 "nbformat_minor": 5
}
